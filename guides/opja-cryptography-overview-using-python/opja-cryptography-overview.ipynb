{
 "cells": [
  {
   "cell_type": "markdown",
   "metadata": {
    "slideshow": {
     "slide_type": "slide"
    }
   },
   "source": [
    "# Open Private Join and Activation Cryptography Overview"
   ]
  },
  {
   "cell_type": "markdown",
   "metadata": {
    "slideshow": {
     "slide_type": "slide"
    }
   },
   "source": [
    "This document provides an overview of the cryptographic primitives, operations, workflows found in the IAB Tech Lab [Open Private Join and Activation](https://iabtechlab.com/datacleanrooms/) (OPJA) standard. This is accomplished by presenting high-level template implementations (written using Python 3) of encryption/decryption operations, protocol participants, and (for context) some data management workflows. The underlying cryptographic primitives required for those workflows are invoked via the interface provided by the [cryptography.io](https://cryptography.io) Python library."
   ]
  },
  {
   "cell_type": "markdown",
   "metadata": {
    "slideshow": {
     "slide_type": "slide"
    }
   },
   "source": [
    "The workflow implementations in this document are only *illustrations* that can serve as a guide and aid in understanding the OPJA standard (*e.g.*, when assembling a prototype, development, or production implementations of a component that must conform to OPJA). These illustrations do not exhaustively acknowledge or address all security, privacy, performance, scalability, software engineering, and information technology issues that may be considered in production implementations."
   ]
  },
  {
   "cell_type": "markdown",
   "metadata": {
    "slideshow": {
     "slide_type": "slide"
    }
   },
   "source": [
    "The definitions and implementatinos found in this document are organized according to common encapsulation, modularity, and reuse principles drawn from the practice of software engineering. Thus, the  order in which they appear may not match the OPJA standard."
   ]
  },
  {
   "cell_type": "markdown",
   "metadata": {
    "slideshow": {
     "slide_type": "slide"
    }
   },
   "source": [
    "## Dependencies"
   ]
  },
  {
   "cell_type": "markdown",
   "metadata": {
    "slideshow": {
     "slide_type": "slide"
    }
   },
   "source": [
    "This document requires Python 3.11 and is designed to be viewed and executed using [Jupyter Notebook](https://jupyter.org/). The document also relies on a few additional dependencies. All required dependencies can be found in the accompanying `requirements.txt` file."
   ]
  },
  {
   "cell_type": "markdown",
   "metadata": {
    "slideshow": {
     "slide_type": "slide"
    }
   },
   "source": [
    "The Python class and function definitions in this document are annotated with their types."
   ]
  },
  {
   "cell_type": "code",
   "execution_count": 1,
   "metadata": {},
   "outputs": [],
   "source": [
    "from __future__ import annotations\n",
    "from typing import Optional, Tuple, Sequence"
   ]
  },
  {
   "cell_type": "markdown",
   "metadata": {
    "slideshow": {
     "slide_type": "slide"
    }
   },
   "source": [
    "A number of built-in libraries are used throughout this document."
   ]
  },
  {
   "cell_type": "code",
   "execution_count": 2,
   "metadata": {},
   "outputs": [],
   "source": [
    "import os\n",
    "import base64\n",
    "import collections\n",
    "import uuid"
   ]
  },
  {
   "cell_type": "markdown",
   "metadata": {
    "slideshow": {
     "slide_type": "slide"
    }
   },
   "source": [
    "Cryptographic primitives within this document are invoked via the interface provided by the [cryptography.io](https://cryptography.io) Python library. In many environments, installing the library should be sufficient. However, in some cases, there may be a mismatch between the latest [cryptography.io](https://cryptography.io) release and the particular version of OpenSSL (or equivalent) that is installed or against which the installed version of Python is compiled."
   ]
  },
  {
   "cell_type": "code",
   "execution_count": 3,
   "metadata": {},
   "outputs": [],
   "source": [
    "import cryptography"
   ]
  },
  {
   "cell_type": "markdown",
   "metadata": {
    "slideshow": {
     "slide_type": "slide"
    }
   },
   "source": [
    "## Common Operations"
   ]
  },
  {
   "cell_type": "markdown",
   "metadata": {
    "slideshow": {
     "slide_type": "slide"
    }
   },
   "source": [
    "Basic implementations of AES-128 GCM encryption and decryption functions are presented below, based on an [example](https://cryptography.io/en/latest/hazmat/primitives/symmetric-encryption/#cryptography.hazmat.primitives.ciphers.modes.GCM) found in the [cryptography.io](https://cryptography.io) documentation."
   ]
  },
  {
   "cell_type": "code",
   "execution_count": 4,
   "metadata": {},
   "outputs": [],
   "source": [
    "from cryptography.hazmat.primitives.ciphers import Cipher, algorithms, modes\n",
    "from cryptography.hazmat.primitives.asymmetric.x25519 import X25519PrivateKey\n",
    "\n",
    "def aes_gcm_encrypt(key, plaintext, associated_data, nonce):\n",
    "    \"\"\"\n",
    "    Encrypt a plaintext (coupled with unencrypted associated data and\n",
    "    using the specified nonce); return the ciphertext and accompanying tag.\n",
    "    \"\"\"\n",
    "    # Construct an AES-GCM `Cipher` object with the given `key` and a\n",
    "    # randomly generated `nonce`.\n",
    "    encryptor = Cipher(algorithms.AES(key), modes.GCM(nonce)).encryptor()\n",
    "\n",
    "    # `associated_data` will be authenticated but not encrypted,\n",
    "    # it must also be passed in on decryption.\n",
    "    encryptor.authenticate_additional_data(associated_data)\n",
    "\n",
    "    # Encrypt the plaintext and get the associated ciphertext.\n",
    "    # GCM does not require padding.\n",
    "    ciphertext = encryptor.update(plaintext) + encryptor.finalize()\n",
    "\n",
    "    return (ciphertext, encryptor.tag)\n",
    "\n",
    "def aes_gcm_decrypt(key, associated_data, ciphertext, tag, nonce):\n",
    "    \"\"\"\n",
    "    Decrypt a ciphertext (coupled with the associated data, tag, and\n",
    "    nonce that were involved in the original encryption of the ciphertext).\n",
    "    \"\"\"\n",
    "    # Construct a `Cipher` object, with the `key`, `nonce`, and\n",
    "    # the GCM `tag` used for authenticating the message.\n",
    "    decryptor = Cipher(algorithms.AES(key), modes.GCM(nonce, tag)).decryptor()\n",
    "\n",
    "    # Put `associated_data` back or the `tag` will fail to verify\n",
    "    # when the decryptor is finalized.\n",
    "    decryptor.authenticate_additional_data(associated_data)\n",
    "\n",
    "    # Decryption gets us the authenticated plaintext.\n",
    "    # If the tag does not match an InvalidTag exception will be raised.\n",
    "    return decryptor.update(ciphertext) + decryptor.finalize()"
   ]
  },
  {
   "cell_type": "markdown",
   "metadata": {
    "slideshow": {
     "slide_type": "slide"
    }
   },
   "source": [
    "Below is a simple test of the two functions defined above."
   ]
  },
  {
   "cell_type": "code",
   "execution_count": 5,
   "metadata": {},
   "outputs": [],
   "source": [
    "private_key = X25519PrivateKey.generate()\n",
    "public_key = private_key.public_key()\n",
    "shared_key = private_key.exchange(public_key)\n",
    "nonce = bytes(12)\n",
    "(ciphertext, tag) = aes_gcm_encrypt(shared_key, b'message', b'assoc data', nonce)\n",
    "assert b'message' == aes_gcm_decrypt(shared_key, b'assoc data', ciphertext, tag, nonce)"
   ]
  },
  {
   "cell_type": "markdown",
   "metadata": {
    "slideshow": {
     "slide_type": "slide"
    }
   },
   "source": [
    "## Activation Protocol"
   ]
  },
  {
   "cell_type": "markdown",
   "metadata": {
    "slideshow": {
     "slide_type": "slide"
    }
   },
   "source": [
    "### Label Encryption and Decryption"
   ]
  },
  {
   "cell_type": "markdown",
   "metadata": {
    "slideshow": {
     "slide_type": "slide"
    }
   },
   "source": [
    "The activation protocol involves the preparation and delivery of *encrypted labels*. Below are minimal implementations of functions for encrypting and decrypting an ordered collection of labels. These implementations adhere to the OPJA specification."
   ]
  },
  {
   "cell_type": "code",
   "execution_count": 6,
   "metadata": {},
   "outputs": [],
   "source": [
    "def encrypt_labels(\n",
    "        key: bytes,\n",
    "        match_transaction_id: bytes,\n",
    "        ls: Sequence[bool]\n",
    "    ) -> Sequence[str]:\n",
    "    \"\"\"\n",
    "    Encrypt a sequence of boolean labels and return the sequence of\n",
    "    ciphertexts.\n",
    "    \"\"\"\n",
    "    es = []\n",
    "    nonce_base = os.urandom(12)\n",
    "\n",
    "    for (i, l) in enumerate(ls):\n",
    "        b = bytes([255 if l else 0])\n",
    "        nonce = bytes([x ^ y for (x, y) in zip(i.to_bytes(12, 'big'), nonce_base)])\n",
    "        (c, t) = aes_gcm_encrypt(\n",
    "            key,\n",
    "            b,\n",
    "            match_transaction_id,\n",
    "            nonce\n",
    "        )\n",
    "        e = base64.standard_b64encode(nonce + c + t).decode()\n",
    "        es.append(e)\n",
    "\n",
    "    return es\n",
    "\n",
    "def decrypt_labels(\n",
    "        key: bytes,\n",
    "        match_transaction_id: bytes,\n",
    "        cs: Sequence[str]\n",
    "    ) -> Sequence[bool]:\n",
    "    \"\"\"\n",
    "    Decrypt a sequence of encrypted label ciphertexts and return the\n",
    "    original labels.\n",
    "    \"\"\"\n",
    "    ls = []\n",
    "\n",
    "    for (i, c) in enumerate(cs):\n",
    "        raw = base64.standard_b64decode(c.encode())\n",
    "        (nonce, c, tag) = (raw[:12], raw[12:-16], raw[-16:])\n",
    "        l = 255 == aes_gcm_decrypt(key, match_transaction_id, c, tag, nonce)[0]\n",
    "        ls.append(l)\n",
    "\n",
    "    return ls"
   ]
  },
  {
   "cell_type": "markdown",
   "metadata": {
    "slideshow": {
     "slide_type": "slide"
    }
   },
   "source": [
    "Below is a simple test of the functions defined above."
   ]
  },
  {
   "cell_type": "code",
   "execution_count": 7,
   "metadata": {},
   "outputs": [],
   "source": [
    "ls = [True, False, True, False]\n",
    "match_transaction_id = b'1234567890'\n",
    "es = encrypt_labels(shared_key, match_transaction_id, ls)\n",
    "ls_ = decrypt_labels(shared_key, match_transaction_id, es)\n",
    "assert ls == ls_"
   ]
  },
  {
   "cell_type": "markdown",
   "metadata": {
    "slideshow": {
     "slide_type": "slide"
    }
   },
   "source": [
    "### Participants"
   ]
  },
  {
   "cell_type": "markdown",
   "metadata": {
    "slideshow": {
     "slide_type": "slide"
    }
   },
   "source": [
    "All participants (publishers, advertisers, matching systems, DSPs, and SSPs) must have the capacity to perform some basic cryptographic key management operations. The class definition below includes methods corresponding to these operations."
   ]
  },
  {
   "cell_type": "code",
   "execution_count": 8,
   "metadata": {},
   "outputs": [],
   "source": [
    "class Participant:\n",
    "    \"\"\"\n",
    "    Functionalities common to all participants.\n",
    "    \"\"\"\n",
    "    def __init__(self: Participant, identifier: Optional[str] = None):\n",
    "        \"\"\"\n",
    "        Each participant has a unique identifier\n",
    "        \"\"\"\n",
    "        self.identifier = uuid.uuid4() if identifier is None else identifier\n",
    "\n",
    "    def generate_key_pair(self: Participant) -> Tuple[bytes, bytes]:\n",
    "        \"\"\"\n",
    "        Generate an individual public-private key pair.\n",
    "        \"\"\"\n",
    "        key_private = X25519PrivateKey.generate()\n",
    "        key_public = key_private.public_key()\n",
    "        return (key_public, key_private)\n",
    "\n",
    "    def initial_key_pairs(self: Participant):\n",
    "        \"\"\"\n",
    "        Prepare an ordered collection of five public-private key pairs.\n",
    "        The \"first\" key is at the right-most end of the ordered collection.\n",
    "        \"\"\"\n",
    "        self.key_pairs = collections.deque([self.generate_key_pair() for _ in range(5)])\n",
    "        \n",
    "    def rotate_key_pairs(self: Participant):\n",
    "        \"\"\"\n",
    "        Rotate the key pairs by removing the \"last\" (left-most end) key pair\n",
    "        in the collection and adding a newly generated key pair.\n",
    "        \"\"\"\n",
    "        self.key_pairs.popleft()\n",
    "        self.key_pairs.append(self.generate_key_pair())\n",
    "\n",
    "    def first_key_pair(self: Participant) -> Tuple[bytes, bytes]:\n",
    "        \"\"\"\n",
    "        Return the newest key pair (*i.e.*, right-most end).\n",
    "        \"\"\"\n",
    "        return self.key_pairs[-1]\n",
    "\n",
    "    def first_key_public(self: Participant) -> bytes:\n",
    "        \"\"\"\n",
    "        Return the public key from the newest key pair (*i.e.*, right-most end).\n",
    "        \"\"\"\n",
    "        return self.first_key_pair()[0]\n",
    "\n",
    "    def first_key_private(self: Participant) -> bytes:\n",
    "        \"\"\"\n",
    "        Return the private key from the newest key pair (*i.e.*, right-most end).\n",
    "        \"\"\"\n",
    "        return self.first_key_pair()[1]\n"
   ]
  },
  {
   "cell_type": "markdown",
   "metadata": {
    "slideshow": {
     "slide_type": "slide"
    }
   },
   "source": [
    "### Example Workflow"
   ]
  },
  {
   "cell_type": "markdown",
   "metadata": {
    "slideshow": {
     "slide_type": "slide"
    }
   },
   "source": [
    "Below is a sketch (using the functions and classes defined above) of a basic activation workflow between a matching system and a DSP."
   ]
  },
  {
   "cell_type": "code",
   "execution_count": 9,
   "metadata": {},
   "outputs": [],
   "source": [
    "class MatchingSystem(Participant):\n",
    "    def encrypt_labels_for(\n",
    "            self: MatchingSystem,\n",
    "            participant: Participant,\n",
    "            match_transaction_id: bytes,\n",
    "            ls: Sequence[bool]\n",
    "        ) -> Sequence[str]:\n",
    "        key_shared = self.first_key_private().exchange(participant.first_key_public())\n",
    "        return encrypt_labels(key_shared, match_transaction_id, ls)\n",
    "\n",
    "class ActivationSystem(Participant):\n",
    "    def decrypt_labels_from(\n",
    "            self: ActivationSystem,\n",
    "            participant: Participant,\n",
    "            match_transaction_id: bytes,\n",
    "            es: Sequence[str]\n",
    "        ) -> Sequence[bool]:\n",
    "        key_shared = self.first_key_private().exchange(participant.first_key_public())\n",
    "        return decrypt_labels(key_shared, match_transaction_id, es)"
   ]
  },
  {
   "cell_type": "code",
   "execution_count": 10,
   "metadata": {},
   "outputs": [],
   "source": [
    "matching_system = MatchingSystem()\n",
    "matching_system.initial_key_pairs()\n",
    "\n",
    "dsp = ActivationSystem()\n",
    "dsp.initial_key_pairs()\n",
    "\n",
    "ls = [True, False, True, False]\n",
    "match_transaction_id = b'1234567890'\n",
    "es = matching_system.encrypt_labels_for(dsp, match_transaction_id, ls)\n",
    "ls_ = dsp.decrypt_labels_from(matching_system, match_transaction_id, es)\n",
    "assert ls == ls_"
   ]
  },
  {
   "cell_type": "code",
   "execution_count": null,
   "metadata": {},
   "outputs": [],
   "source": [
    "# End of file."
   ]
  }
 ],
 "metadata": {
  "anaconda-cloud": {},
  "celltoolbar": "Slideshow",
  "kernelspec": {
   "display_name": "Python 3 (ipykernel)",
   "language": "python",
   "name": "python3"
  },
  "language_info": {
   "codemirror_mode": {
    "name": "ipython",
    "version": 3
   },
   "file_extension": ".py",
   "mimetype": "text/x-python",
   "name": "python",
   "nbconvert_exporter": "python",
   "pygments_lexer": "ipython3",
   "version": "3.11.3"
  }
 },
 "nbformat": 4,
 "nbformat_minor": 1
}
