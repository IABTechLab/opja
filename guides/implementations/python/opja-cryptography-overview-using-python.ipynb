{
 "cells": [
  {
   "cell_type": "markdown",
   "metadata": {
    "slideshow": {
     "slide_type": "slide"
    }
   },
   "source": [
    "# Open Private Join and Activation Cryptography Overview"
   ]
  },
  {
   "cell_type": "markdown",
   "metadata": {
    "slideshow": {
     "slide_type": "slide"
    }
   },
   "source": [
    "This document provides an overview of the cryptographic primitives, operations, workflows found in the IAB Tech Lab [Open Private Join and Activation](https://iabtechlab.com/datacleanrooms/) (OPJA) standard. This is accomplished by presenting high-level template implementations (written using Python 3) of encryption/decryption operations, protocol participants, and (for context) some data management workflows. The underlying cryptographic primitives required for those workflows are invoked via the interface provided by the [cryptography.io](https://cryptography.io) and [oblivious](https://oblivious.readthedocs.io) Python libraries."
   ]
  },
  {
   "cell_type": "markdown",
   "metadata": {
    "slideshow": {
     "slide_type": "slide"
    }
   },
   "source": [
    "The workflow implementations in this document are only *illustrations* that can serve as a guide and aid in understanding the OPJA standard (*e.g.*, when assembling a prototype, development, or production implementation of a component that conforms to OPJA). These illustrations do not exhaustively acknowledge or address all security, privacy, performance, scalability, software engineering, and information technology issues that may be considered in production implementations."
   ]
  },
  {
   "cell_type": "markdown",
   "metadata": {
    "slideshow": {
     "slide_type": "slide"
    }
   },
   "source": [
    "The definitions and implementatinos found in this document are organized according to common encapsulation, modularity, and reuse principles drawn from the practice of software engineering. Thus, the  order in which they appear may not match the OPJA standard."
   ]
  },
  {
   "cell_type": "markdown",
   "metadata": {
    "slideshow": {
     "slide_type": "slide"
    }
   },
   "source": [
    "## Dependencies"
   ]
  },
  {
   "cell_type": "markdown",
   "metadata": {
    "slideshow": {
     "slide_type": "slide"
    }
   },
   "source": [
    "This document requires Python 3.11 and is designed to be viewed and executed using [Jupyter Notebook](https://jupyter.org/). The document also relies on a few additional dependencies. All required dependencies can be found in the accompanying `requirements.txt` file."
   ]
  },
  {
   "cell_type": "markdown",
   "metadata": {
    "slideshow": {
     "slide_type": "slide"
    }
   },
   "source": [
    "The Python class and function definitions in this document are annotated with their types."
   ]
  },
  {
   "cell_type": "code",
   "execution_count": 1,
   "metadata": {},
   "outputs": [],
   "source": [
    "from __future__ import annotations\n",
    "from typing import Optional, Tuple, Sequence"
   ]
  },
  {
   "cell_type": "markdown",
   "metadata": {
    "slideshow": {
     "slide_type": "slide"
    }
   },
   "source": [
    "A number of built-in libraries are used throughout this document."
   ]
  },
  {
   "cell_type": "code",
   "execution_count": 2,
   "metadata": {},
   "outputs": [],
   "source": [
    "import os\n",
    "import struct\n",
    "import random\n",
    "import secrets\n",
    "import base64\n",
    "import uuid\n",
    "import collections"
   ]
  },
  {
   "cell_type": "markdown",
   "metadata": {
    "slideshow": {
     "slide_type": "slide"
    }
   },
   "source": [
    "Cryptographic primitives within this document are invoked via the interface provided by the [cryptography.io](https://cryptography.io) Python library. In many environments, installing the library should be sufficient. However, in some cases, there may be a mismatch between the latest [cryptography.io](https://cryptography.io) release and the particular version of OpenSSL (or equivalent) that is installed or against which the installed version of Python is compiled."
   ]
  },
  {
   "cell_type": "code",
   "execution_count": 3,
   "metadata": {},
   "outputs": [],
   "source": [
    "import cryptography"
   ]
  },
  {
   "cell_type": "markdown",
   "metadata": {
    "slideshow": {
     "slide_type": "slide"
    }
   },
   "source": [
    "## Common Cryptographic Operations"
   ]
  },
  {
   "cell_type": "markdown",
   "metadata": {
    "slideshow": {
     "slide_type": "slide"
    }
   },
   "source": [
    "OPJA workflows rely on both a symmetric-key block cipher and a hybrid public-key cryptosystem. The sections below present implementation variants for each of these two schemes."
   ]
  },
  {
   "cell_type": "markdown",
   "metadata": {
    "slideshow": {
     "slide_type": "slide"
    }
   },
   "source": [
    "### Symmetric-Key Block Cipher: AES-128 GCM"
   ]
  },
  {
   "cell_type": "markdown",
   "metadata": {
    "slideshow": {
     "slide_type": "slide"
    }
   },
   "source": [
    "Minimal implementations of AES-128 GCM encryption and decryption functions are presented below, based on an [example](https://cryptography.io/en/latest/hazmat/primitives/symmetric-encryption/#cryptography.hazmat.primitives.ciphers.modes.GCM) found in the [cryptography.io](https://cryptography.io) documentation."
   ]
  },
  {
   "cell_type": "code",
   "execution_count": 4,
   "metadata": {},
   "outputs": [],
   "source": [
    "from cryptography.hazmat.primitives.ciphers import Cipher, algorithms, modes\n",
    "from cryptography.hazmat.primitives.asymmetric.x25519 import X25519PrivateKey\n",
    "\n",
    "def aes_128_gcm_encrypt(\n",
    "        key_shared: bytes,\n",
    "        plaintext: bytes,\n",
    "        associated_data: bytes,\n",
    "        nonce: bytes\n",
    "    ) -> Tuple[bytes, bytes]:\n",
    "    \"\"\"\n",
    "    Encrypt a plaintext (coupled with unencrypted associated data and\n",
    "    using the specified nonce); return the ciphertext and accompanying tag.\n",
    "    \"\"\"\n",
    "    # Construct an AES-GCM ``Cipher`` object with the given ``key`` and a\n",
    "    # randomly generated ``nonce``.\n",
    "    encryptor = Cipher(algorithms.AES(key_shared), modes.GCM(nonce)).encryptor()\n",
    "\n",
    "    # ``associated_data`` will be authenticated but not encrypted,\n",
    "    # it must also be passed in on decryption.\n",
    "    encryptor.authenticate_additional_data(associated_data)\n",
    "\n",
    "    # Encrypt the plaintext and get the associated ciphertext.\n",
    "    # GCM does not require padding.\n",
    "    ciphertext = encryptor.update(plaintext) + encryptor.finalize()\n",
    "\n",
    "    return (ciphertext, encryptor.tag)\n",
    "\n",
    "def aes_128_gcm_decrypt(\n",
    "        key_shared: bytes,\n",
    "        associated_data: bytes,\n",
    "        ciphertext: bytes,\n",
    "        tag: bytes,\n",
    "        nonce: bytes\n",
    "    ) -> bytes:\n",
    "    \"\"\"\n",
    "    Decrypt a ciphertext (coupled with the associated data, tag, and\n",
    "    nonce that were involved in the original encryption of the ciphertext).\n",
    "    \"\"\"\n",
    "    # Construct a ``Cipher`` object, with the ``key``, ``nonce``, and\n",
    "    # the GCM ``tag`` used for authenticating the message.\n",
    "    decryptor = Cipher(algorithms.AES(key_shared), modes.GCM(nonce, tag)).decryptor()\n",
    "\n",
    "    # Put ``associated_data`` back or the ``tag`` will fail to verify\n",
    "    # when the decryptor is finalized.\n",
    "    decryptor.authenticate_additional_data(associated_data)\n",
    "\n",
    "    # Decryption gets us the authenticated plaintext.\n",
    "    # If the tag does not match an InvalidTag exception will be raised.\n",
    "    return decryptor.update(ciphertext) + decryptor.finalize()"
   ]
  },
  {
   "cell_type": "markdown",
   "metadata": {
    "slideshow": {
     "slide_type": "slide"
    }
   },
   "source": [
    "Below is a simple test of the two functions defined above. The sender and receiver each generate their own key pair. Then, each uses their own secret key and the other party's public key to construct their own copy of the shared key."
   ]
  },
  {
   "cell_type": "code",
   "execution_count": 5,
   "metadata": {},
   "outputs": [],
   "source": [
    "sender_key_secret = X25519PrivateKey.generate()\n",
    "sender_key_public = sender_key_secret.public_key()\n",
    "\n",
    "receiver_key_secret = X25519PrivateKey.generate()\n",
    "receiver_key_public = receiver_key_secret.public_key()\n",
    "\n",
    "sender_key_shared = sender_key_secret.exchange(receiver_key_public)\n",
    "receiver_key_shared = receiver_key_secret.exchange(sender_key_public)\n",
    "\n",
    "nonce = secrets.token_bytes(12)\n",
    "(ciphertext, tag) = aes_128_gcm_encrypt(sender_key_shared, b'message', b'assoc data', nonce)\n",
    "assert (\n",
    "    b'message'\n",
    "    ==\n",
    "    aes_128_gcm_decrypt(receiver_key_shared, b'assoc data', ciphertext, tag, nonce)\n",
    ")"
   ]
  },
  {
   "cell_type": "markdown",
   "metadata": {
    "slideshow": {
     "slide_type": "slide"
    }
   },
   "source": [
    "### Hybrid Cryptosystem: Hybrid Public Key Encryption (HPKE)"
   ]
  },
  {
   "cell_type": "markdown",
   "metadata": {
    "slideshow": {
     "slide_type": "slide"
    }
   },
   "source": [
    "Minimal implementations of HPKE authenticated encryption and decryption functions (as defined in [RFC 9180](https://www.rfc-editor.org/rfc/rfc9180.html)) are presented below. The implementations below correspond to the ciphersuite found within the OPJA specification:\n",
    "\n",
    "* mode: **Auth**,\n",
    "* Key Encapsulation Machanism (KEM): **DHKEM (X25519, HKDF-SHA256)**,\n",
    "* Key Derivation Functions (KDF): **HKDF-SHA256**, and\n",
    "* Authenticated Encryption with Associated Data (AEAD): **AES-128-GCM**."
   ]
  },
  {
   "cell_type": "code",
   "execution_count": 6,
   "metadata": {},
   "outputs": [],
   "source": [
    "from cryptography.hazmat.backends import default_backend\n",
    "from cryptography.hazmat.primitives import hashes, hmac\n",
    "from cryptography.hazmat.primitives.serialization import Encoding, PublicFormat\n",
    "from cryptography.hazmat.primitives.ciphers import aead\n",
    "from cryptography.hazmat.primitives.asymmetric.x25519 import X25519PrivateKey, X25519PublicKey\n",
    "\n",
    "HPKE_VERSION = b'HPKE-v1'\n",
    "AUTH = 2\n",
    "DHKEM_X25519_HKDF_SHA256 = 0x0020\n",
    "HKDF_SHA256 = 0x0001\n",
    "AES128_GCM = 0x0001\n",
    "\n",
    "AEAD_KEY_SIZE = 16\n",
    "DHKEM_X25519_HKDF_SHA256_SECRET_SIZE = 32\n",
    "\n",
    "def labeled_extract(suite_id: bytes, salt: bytes, label: bytes, ikm: bytes) -> bytes:\n",
    "    ctx = hmac.HMAC(salt, hashes.SHA256(), backend=default_backend())\n",
    "    ctx.update(HPKE_VERSION + suite_id + label + ikm) # Labeled ``ikm``.\n",
    "    return ctx.finalize()\n",
    "\n",
    "def labeled_expand(suite_id: bytes, prk: bytes, label: bytes, info: bytes, length: int) -> bytes:\n",
    "    labeled_info = struct.pack('>H', length) + HPKE_VERSION + suite_id + label + info\n",
    "    assert length <= 255 * hashes.SHA256().digest_size\n",
    "    t_n_minus_1 = b''\n",
    "    n = 1\n",
    "    data = b''\n",
    "    while len(data) < length:\n",
    "        ctx = hmac.HMAC(prk, hashes.SHA256(), backend=default_backend())\n",
    "        ctx.update(t_n_minus_1 + labeled_info + n.to_bytes(1, byteorder='big'))\n",
    "        t_n_minus_1 = ctx.finalize()\n",
    "        data += t_n_minus_1\n",
    "        n += 1\n",
    "    return data[:length]\n",
    "\n",
    "def extract_and_expand(suite_id: bytes, dh: bytes, kem_context: bytes, length: int) -> bytes:\n",
    "    eae_prk = labeled_extract(suite_id, b'', b'eae_prk', dh)\n",
    "    return labeled_expand(suite_id, eae_prk, b'shared_secret', kem_context, length)\n",
    "\n",
    "def key_schedule(shared_secret: bytes, psk_id: bytes = b'') -> bytes:\n",
    "    suite_id = b'HPKE' + struct.pack('>HHH', DHKEM_X25519_HKDF_SHA256, HKDF_SHA256, AES128_GCM)\n",
    "    psk_id_hash = labeled_extract(suite_id, b'', b'psk_id_hash', psk_id)\n",
    "    info_hash = labeled_extract(suite_id, b'', b'info_hash', b'')\n",
    "    secret = labeled_extract(suite_id, shared_secret, b'secret', b'')\n",
    "    key_schedule_context = bytes([AUTH]) + psk_id_hash + info_hash\n",
    "    return labeled_expand(suite_id, secret, b'key', key_schedule_context, AEAD_KEY_SIZE)\n",
    "\n",
    "def hpke_x25519_sha256_sha256_aes_128_gcm_auth_encap(pkr: bytes, sks: bytes) -> Tuple[bytes, bytes]:\n",
    "    suite_id = b'KEM' + struct.pack('>H', DHKEM_X25519_HKDF_SHA256)\n",
    "    ek_secret = X25519PrivateKey.generate()\n",
    "    ek_public = ek_secret.public_key()\n",
    "    enc = ek_public.public_bytes(Encoding.Raw, PublicFormat.Raw)\n",
    "    dh = ek_secret.exchange(pkr) + sks.exchange(pkr)\n",
    "    pks = sks.public_key()\n",
    "    kem_context = (\n",
    "        enc +\n",
    "        pkr.public_bytes(Encoding.Raw, PublicFormat.Raw) +\n",
    "        pks.public_bytes(Encoding.Raw, PublicFormat.Raw)\n",
    "    )\n",
    "    shared_secret = extract_and_expand(suite_id, dh, kem_context, DHKEM_X25519_HKDF_SHA256_SECRET_SIZE)\n",
    "    return (enc, key_schedule(shared_secret))\n",
    "\n",
    "def hpke_x25519_sha256_sha256_aes_128_gcm_auth_decap(enc: bytes, skr: bytes, pks: bytes) -> bytes:\n",
    "    suite_id = b'KEM' + struct.pack('>H', DHKEM_X25519_HKDF_SHA256)\n",
    "    pke = X25519PublicKey.from_public_bytes(enc)\n",
    "    pkr = skr.public_key()\n",
    "    dh = skr.exchange(pke) + skr.exchange(pks)\n",
    "    kem_context = (\n",
    "        enc +\n",
    "        pkr.public_bytes(Encoding.Raw, PublicFormat.Raw) +\n",
    "        pks.public_bytes(Encoding.Raw, PublicFormat.Raw)\n",
    "    )\n",
    "    shared_secret = extract_and_expand(suite_id, dh, kem_context, DHKEM_X25519_HKDF_SHA256_SECRET_SIZE)\n",
    "    return key_schedule(shared_secret)"
   ]
  },
  {
   "cell_type": "markdown",
   "metadata": {
    "slideshow": {
     "slide_type": "slide"
    }
   },
   "source": [
    "Below is a simple test of the two functions defined above. The sender and receiver each generate their own key pair. Then, each uses their own secret key and the other party's public key to construct their own copy of the shared key."
   ]
  },
  {
   "cell_type": "code",
   "execution_count": 7,
   "metadata": {},
   "outputs": [],
   "source": [
    "sender_key_secret = X25519PrivateKey.generate()\n",
    "sender_key_public = sender_key_secret.public_key()\n",
    "\n",
    "receiver_key_secret = X25519PrivateKey.generate()\n",
    "receiver_key_public = receiver_key_secret.public_key()\n",
    "\n",
    "(key_encapsulated, sender_key_shared) =\\\n",
    "    hpke_x25519_sha256_sha256_aes_128_gcm_auth_encap(\n",
    "        receiver_key_public,\n",
    "        sender_key_secret\n",
    "    )\n",
    "receiver_key_shared =\\\n",
    "    hpke_x25519_sha256_sha256_aes_128_gcm_auth_decap(\n",
    "        key_encapsulated,\n",
    "        receiver_key_secret,\n",
    "        sender_key_public\n",
    "    )\n",
    "\n",
    "nonce = secrets.token_bytes(12)\n",
    "(ciphertext, tag) = aes_128_gcm_encrypt(sender_key_shared, b'message', b'assoc data', nonce)\n",
    "assert (\n",
    "    b'message'\n",
    "    ==\n",
    "    aes_128_gcm_decrypt(receiver_key_shared, b'assoc data', ciphertext, tag, nonce)\n",
    ")"
   ]
  },
  {
   "cell_type": "markdown",
   "metadata": {
    "slideshow": {
     "slide_type": "slide"
    }
   },
   "source": [
    "## Matching Protocol"
   ]
  },
  {
   "cell_type": "markdown",
   "metadata": {
    "slideshow": {
     "slide_type": "slide"
    }
   },
   "source": [
    "The OPJA specification presents two possible reference designs for the matching system: one based on private set intersection (PSI) and one relying on a trusted execution environment (TEE). The example workflow presented in this section illustrates the relevant cryptographic steps within the PSI reference design using the [oblivious](https://oblivious.readthedocs.io) library, which provides high-level wrappers for [ristretto255](https://datatracker.ietf.org/doc/html/draft-irtf-cfrg-ristretto255-decaf448) objects and operations."
   ]
  },
  {
   "cell_type": "code",
   "execution_count": 8,
   "metadata": {},
   "outputs": [
    {
     "data": {
      "text/plain": [
       "[('alice@example.org', False),\n",
       " ('bob@example.org', True),\n",
       " ('carla@example.org', True)]"
      ]
     },
     "execution_count": 8,
     "metadata": {},
     "output_type": "execute_result"
    }
   ],
   "source": [
    "from oblivious.ristretto import point, scalar\n",
    "\n",
    "publisher_key = scalar()\n",
    "publisher_ids = [\n",
    "    'alice@example.org',\n",
    "    'bob@example.org',\n",
    "    'carla@example.org'\n",
    "]\n",
    "\n",
    "advertiser_key = scalar()\n",
    "advertiser_ids = [\n",
    "    'bob@example.org',\n",
    "    'carla@example.org',\n",
    "    'dan@example.org'\n",
    "]\n",
    "\n",
    "# Publisher and advertiser each mask their own data.\n",
    "publisher_ids_masked = [\n",
    "    publisher_key * point.hash(publisher_id.encode('utf-8'))\n",
    "    for publisher_id in publisher_ids\n",
    "]\n",
    "advertiser_ids_masked = [\n",
    "    advertiser_key * point.hash(advertiser_id.encode('utf-8'))\n",
    "    for advertiser_id in advertiser_ids\n",
    "]\n",
    "\n",
    "# Publisher masks advertiser's masked data and shuffles it.\n",
    "advertiser_ids_masked_twice = [\n",
    "    publisher_key * advertiser_id_masked\n",
    "    for advertiser_id_masked in advertiser_ids_masked\n",
    "]\n",
    "random.shuffle(advertiser_ids_masked_twice)\n",
    "\n",
    "# Advertiser masks publisher's masked data but does not shuffle it.\n",
    "publisher_ids_masked_twice = [\n",
    "    advertiser_key * publisher_id_masked\n",
    "    for publisher_id_masked in publisher_ids_masked\n",
    "]\n",
    "\n",
    "# The matching system can now compare the twice-masked\n",
    "# data sets. The sizes of the intersections are the same.\n",
    "assert(\n",
    "    len(set(publisher_ids) & set(advertiser_ids))\n",
    "    ==\n",
    "    len(\n",
    "        set(publisher_ids_masked_twice) \n",
    "        &\n",
    "        set(advertiser_ids_masked_twice)\n",
    "    )\n",
    ")\n",
    "\n",
    "# Because the publisher's data was not shuffled, the matching\n",
    "# system can determine the label for each publisher-masked\n",
    "# identifier.\n",
    "[\n",
    "    (\n",
    "        # Publisher-masked identifier (understood by publisher).\n",
    "        publisher_id_masked,\n",
    "\n",
    "        # Label (encrypted before delivery to publisher).\n",
    "        publisher_id_masked_twice in advertiser_ids_masked_twice\n",
    "    )\n",
    "    for (publisher_id_masked, publisher_id_masked_twice) in zip(\n",
    "        publisher_ids, \n",
    "        publisher_ids_masked_twice\n",
    "    )\n",
    "]"
   ]
  },
  {
   "cell_type": "markdown",
   "metadata": {
    "slideshow": {
     "slide_type": "slide"
    }
   },
   "source": [
    "## Activation Protocol"
   ]
  },
  {
   "cell_type": "markdown",
   "metadata": {
    "slideshow": {
     "slide_type": "slide"
    }
   },
   "source": [
    "The activation protocol within the OPJA specification consists of a number of component operations and workflows. This section presents implementations of some of those components and a simplified example scenario that illustrates how the components interoperate. It is important to note that the scenario should be viewed as abstract: practical considerations (such as how to implement asynchronous communication channels between different participants) are ignored."
   ]
  },
  {
   "cell_type": "markdown",
   "metadata": {
    "slideshow": {
     "slide_type": "slide"
    }
   },
   "source": [
    "### Label Encryption and Decryption"
   ]
  },
  {
   "cell_type": "markdown",
   "metadata": {
    "slideshow": {
     "slide_type": "slide"
    }
   },
   "source": [
    "The activation protocol involves the preparation and delivery of *encrypted labels*. Below are minimal implementations of functions for encrypting and decrypting an ordered collection of labels. These implementations adhere to the OPJA specification."
   ]
  },
  {
   "cell_type": "code",
   "execution_count": 9,
   "metadata": {},
   "outputs": [],
   "source": [
    "def encrypt_labels(\n",
    "        key: bytes,\n",
    "        match_transaction_id: bytes,\n",
    "        ls: Sequence[bool]\n",
    "    ) -> Sequence[str]:\n",
    "    \"\"\"\n",
    "    Encrypt a sequence of boolean labels and return the sequence of\n",
    "    ciphertexts.\n",
    "    \"\"\"\n",
    "    es = []\n",
    "    nonce_base = os.urandom(12)\n",
    "\n",
    "    for (i, l) in enumerate(ls):\n",
    "\n",
    "        # The boolean label encoded as a bytes-like object.\n",
    "        b = bytes([255 if l else 0])\n",
    "\n",
    "        # Generate label-specific nonce..\n",
    "        nonce = bytes([x ^ y for (x, y) in zip(i.to_bytes(12, 'big'), nonce_base)])\n",
    "\n",
    "        # Create encrypted label from ``b``.\n",
    "        (c, t) = aes_128_gcm_encrypt(\n",
    "            key,\n",
    "            b,\n",
    "            match_transaction_id,\n",
    "            nonce\n",
    "        )\n",
    "        \n",
    "        # Add Base64-encoded encrypted label to result list.\n",
    "        e = base64.standard_b64encode(nonce + c + t).decode()\n",
    "        es.append(e)\n",
    "\n",
    "    return es\n",
    "\n",
    "def decrypt_labels(\n",
    "        key: bytes,\n",
    "        match_transaction_id: bytes,\n",
    "        cs: Sequence[str]\n",
    "    ) -> Sequence[bool]:\n",
    "    \"\"\"\n",
    "    Decrypt a sequence of encrypted label ciphertexts and return the\n",
    "    original labels.\n",
    "    \"\"\"\n",
    "    ls = []\n",
    "\n",
    "    for (i, c) in enumerate(cs):\n",
    "        \n",
    "        # Retrieve raw byte vector from Base64-encoded string.\n",
    "        raw = base64.standard_b64decode(c.encode())\n",
    "\n",
    "        # Disassemble raw byte vector into constituent parts.\n",
    "        (nonce, c, tag) = (raw[:12], raw[12:-16], raw[-16:])\n",
    "    \n",
    "        # Decrypt, convert to a boolean value, and add to result list.\n",
    "        l = 255 == aes_128_gcm_decrypt(key, match_transaction_id, c, tag, nonce)[0]\n",
    "        ls.append(l)\n",
    "\n",
    "    return ls"
   ]
  },
  {
   "cell_type": "markdown",
   "metadata": {
    "slideshow": {
     "slide_type": "slide"
    }
   },
   "source": [
    "Below is a simple test of the functions defined above."
   ]
  },
  {
   "cell_type": "code",
   "execution_count": 10,
   "metadata": {},
   "outputs": [],
   "source": [
    "sender_key_secret = X25519PrivateKey.generate()\n",
    "sender_key_public = sender_key_secret.public_key()\n",
    "\n",
    "receiver_key_secret = X25519PrivateKey.generate()\n",
    "receiver_key_public = receiver_key_secret.public_key()\n",
    "\n",
    "sender_key_shared = sender_key_secret.exchange(receiver_key_public)\n",
    "receiver_key_shared = receiver_key_secret.exchange(sender_key_public)\n",
    "\n",
    "ls = [True, False, True, False]\n",
    "match_transaction_id = b'1234567890'\n",
    "es = encrypt_labels(sender_key_shared, match_transaction_id, ls)\n",
    "ls_ = decrypt_labels(receiver_key_shared, match_transaction_id, es)\n",
    "assert ls == ls_"
   ]
  },
  {
   "cell_type": "markdown",
   "metadata": {
    "slideshow": {
     "slide_type": "slide"
    }
   },
   "source": [
    "### Participants"
   ]
  },
  {
   "cell_type": "markdown",
   "metadata": {
    "slideshow": {
     "slide_type": "slide"
    }
   },
   "source": [
    "All participants (publishers, advertisers, matching systems, DSPs, and SSPs) must have the capacity to perform some basic cryptographic key management operations. The class definition below includes methods corresponding to these operations."
   ]
  },
  {
   "cell_type": "code",
   "execution_count": 11,
   "metadata": {},
   "outputs": [],
   "source": [
    "class Participant:\n",
    "    \"\"\"\n",
    "    Functionalities common to all participants.\n",
    "    \"\"\"\n",
    "    def __init__(self: Participant, identifier: Optional[str] = None):\n",
    "        \"\"\"\n",
    "        Each participant has a unique identifier\n",
    "        \"\"\"\n",
    "        self.identifier = uuid.uuid4() if identifier is None else identifier\n",
    "\n",
    "    def generate_key_pair(self: Participant) -> Tuple[bytes, bytes]:\n",
    "        \"\"\"\n",
    "        Generate an individual public-private key pair.\n",
    "        \"\"\"\n",
    "        key_private = X25519PrivateKey.generate()\n",
    "        key_public = key_private.public_key()\n",
    "        return (key_public, key_private)\n",
    "\n",
    "    def initial_key_pairs(self: Participant):\n",
    "        \"\"\"\n",
    "        Prepare an ordered collection of five public-private key pairs.\n",
    "        The \"first\" key is at the right-most end of the ordered collection.\n",
    "        \"\"\"\n",
    "        self.key_pairs = collections.deque([self.generate_key_pair() for _ in range(5)])\n",
    "        \n",
    "    def rotate_key_pairs(self: Participant):\n",
    "        \"\"\"\n",
    "        Rotate the key pairs by removing the \"last\" (left-most end) key pair\n",
    "        in the collection and adding a newly generated key pair.\n",
    "        \"\"\"\n",
    "        self.key_pairs.popleft()\n",
    "        self.key_pairs.append(self.generate_key_pair())\n",
    "\n",
    "    def first_key_pair(self: Participant) -> Tuple[bytes, bytes]:\n",
    "        \"\"\"\n",
    "        Return the newest key pair (*i.e.*, right-most end).\n",
    "        \"\"\"\n",
    "        return self.key_pairs[-1]\n",
    "\n",
    "    def first_key_public(self: Participant) -> bytes:\n",
    "        \"\"\"\n",
    "        Return the public key from the newest key pair (*i.e.*, right-most end).\n",
    "        \"\"\"\n",
    "        return self.first_key_pair()[0]\n",
    "\n",
    "    def first_key_private(self: Participant) -> bytes:\n",
    "        \"\"\"\n",
    "        Return the private key from the newest key pair (*i.e.*, right-most end).\n",
    "        \"\"\"\n",
    "        return self.first_key_pair()[1]\n"
   ]
  },
  {
   "cell_type": "markdown",
   "metadata": {
    "slideshow": {
     "slide_type": "slide"
    }
   },
   "source": [
    "### Example Workflow"
   ]
  },
  {
   "cell_type": "markdown",
   "metadata": {
    "slideshow": {
     "slide_type": "slide"
    }
   },
   "source": [
    "Below is a workflow sketch (using the functions and classes defined above) of a simplified activation workflow between a matching system and a DSP. Note that in the sketch below, the delivery of the encapsulated key to the activation system (via the advertiser) and the distinct offline phase in which the activation system derives and caches the shared key are both simplified and folded into the method that decrypts the encrypted labels."
   ]
  },
  {
   "cell_type": "code",
   "execution_count": 16,
   "metadata": {},
   "outputs": [],
   "source": [
    "class MatchingSystem(Participant):\n",
    "    \"\"\"\n",
    "    Functionalities specific to matching systems.\n",
    "    \"\"\"\n",
    "    def encrypt_labels_for(\n",
    "            self: MatchingSystem,\n",
    "            participant: Participant,\n",
    "            match_transaction_id: bytes,\n",
    "            ls: Sequence[bool]\n",
    "        ) -> Tuple[bytes, Sequence[str]]:\n",
    "        (key_encapsulated, key_shared) = hpke_x25519_sha256_sha256_aes_128_gcm_auth_encap(\n",
    "            participant.first_key_public(),\n",
    "            self.first_key_private()\n",
    "        )\n",
    "        return (\n",
    "            key_encapsulated,\n",
    "            encrypt_labels(key_shared, match_transaction_id, ls)\n",
    "        )\n",
    "\n",
    "class ActivationSystem(Participant):\n",
    "    \"\"\"\n",
    "    Functionalities specific to activation systems.\n",
    "    \"\"\"\n",
    "    def decrypt_labels_from(\n",
    "            self: ActivationSystem,\n",
    "            participant: Participant,\n",
    "            key_encapsulated: bytes,\n",
    "            match_transaction_id: bytes,\n",
    "            es: Sequence[str]\n",
    "        ) -> Sequence[bool]:\n",
    "        key_shared = hpke_x25519_sha256_sha256_aes_128_gcm_auth_decap(\n",
    "            key_encapsulated,\n",
    "            self.first_key_private(),\n",
    "            participant.first_key_public()\n",
    "        )\n",
    "        return decrypt_labels(key_shared, match_transaction_id, es)"
   ]
  },
  {
   "cell_type": "code",
   "execution_count": 17,
   "metadata": {},
   "outputs": [],
   "source": [
    "matching_system = MatchingSystem()\n",
    "matching_system.initial_key_pairs()\n",
    "\n",
    "dsp = ActivationSystem()\n",
    "dsp.initial_key_pairs()\n",
    "\n",
    "labels = [True, False, True, False]\n",
    "match_transaction_id = b'1234567890'\n",
    "\n",
    "# Obtain both the encapsulated key and the encrypted labels\n",
    "# from the matching system.\n",
    "(key_encapsulated, labels_encrypted) = matching_system.encrypt_labels_for(\n",
    "    dsp,\n",
    "    match_transaction_id, \n",
    "    labels\n",
    ")\n",
    "\n",
    "# Provide both the encapsulated key and the encrypted labels\n",
    "# to the activation system.\n",
    "labels_decrypted = dsp.decrypt_labels_from(\n",
    "    matching_system,\n",
    "    key_encapsulated,\n",
    "    match_transaction_id,\n",
    "    labels_encrypted\n",
    ")\n",
    "\n",
    "assert labels == labels_decrypted"
   ]
  },
  {
   "cell_type": "code",
   "execution_count": 14,
   "metadata": {},
   "outputs": [],
   "source": [
    "# End of file."
   ]
  }
 ],
 "metadata": {
  "anaconda-cloud": {},
  "celltoolbar": "Slideshow",
  "kernelspec": {
   "display_name": "Python 3 (ipykernel)",
   "language": "python",
   "name": "python3"
  },
  "language_info": {
   "codemirror_mode": {
    "name": "ipython",
    "version": 3
   },
   "file_extension": ".py",
   "mimetype": "text/x-python",
   "name": "python",
   "nbconvert_exporter": "python",
   "pygments_lexer": "ipython3",
   "version": "3.11.3"
  }
 },
 "nbformat": 4,
 "nbformat_minor": 1
}
